{
 "cells": [
  {
   "cell_type": "markdown",
   "id": "105abd28",
   "metadata": {},
   "source": []
  },
  {
   "cell_type": "code",
   "execution_count": 13,
   "id": "74e2e219",
   "metadata": {},
   "outputs": [],
   "source": [
    "import pandas as pd\n",
    "import numpy as np\n",
    "import matplotlib.pyplot as plt\n",
    "import seaborn as sns\n",
    "from sklearn.model_selection import train_test_split\n",
    "from sklearn.ensemble import RandomForestRegressor\n",
    "from sklearn.metrics import mean_absolute_error\n",
    "from sklearn.metrics import mean_absolute_percentage_error\n",
    "from xgboost import XGBRegressor\n",
    "from sklearn.metrics import mean_squared_error\n",
    "from sklearn.metrics import root_mean_squared_error\n",
    "from sklearn.linear_model import LinearRegression\n",
    "from sklearn.metrics import r2_score\n",
    "\n"
   ]
  },
  {
   "cell_type": "code",
   "execution_count": 14,
   "id": "fed6b9d3",
   "metadata": {},
   "outputs": [
    {
     "data": {
      "application/vnd.microsoft.datawrangler.viewer.v0+json": {
       "columns": [
        {
         "name": "index",
         "rawType": "int64",
         "type": "integer"
        },
        {
         "name": "User_ID",
         "rawType": "object",
         "type": "string"
        },
        {
         "name": "App",
         "rawType": "object",
         "type": "string"
        },
        {
         "name": "Daily_Minutes_Spent",
         "rawType": "int64",
         "type": "integer"
        },
        {
         "name": "Posts_Per_Day",
         "rawType": "int64",
         "type": "integer"
        },
        {
         "name": "Likes_Per_Day",
         "rawType": "int64",
         "type": "integer"
        },
        {
         "name": "Follows_Per_Day",
         "rawType": "int64",
         "type": "integer"
        }
       ],
       "ref": "f923fc7e-e258-4591-a134-fe3ae0760dc9",
       "rows": [
        [
         "0",
         "U_1",
         "Pinterest",
         "288",
         "16",
         "94",
         "0"
        ],
        [
         "1",
         "U_2",
         "Facebook",
         "192",
         "14",
         "117",
         "15"
        ],
        [
         "2",
         "U_3",
         "Instagram",
         "351",
         "13",
         "120",
         "48"
        ],
        [
         "3",
         "U_4",
         "TikTok",
         "21",
         "20",
         "117",
         "8"
        ],
        [
         "4",
         "U_5",
         "LinkedIn",
         "241",
         "16",
         "9",
         "21"
        ],
        [
         "5",
         "U_6",
         "Twitter",
         "464",
         "3",
         "137",
         "30"
        ],
        [
         "6",
         "U_7",
         "LinkedIn",
         "229",
         "1",
         "188",
         "25"
        ],
        [
         "7",
         "U_8",
         "LinkedIn",
         "8",
         "19",
         "179",
         "48"
        ],
        [
         "8",
         "U_9",
         "TikTok",
         "80",
         "7",
         "14",
         "25"
        ],
        [
         "9",
         "U_10",
         "Snapchat",
         "428",
         "6",
         "4",
         "41"
        ],
        [
         "10",
         "U_11",
         "Snapchat",
         "52",
         "18",
         "124",
         "26"
        ],
        [
         "11",
         "U_12",
         "Facebook",
         "314",
         "18",
         "132",
         "28"
        ],
        [
         "12",
         "U_13",
         "LinkedIn",
         "26",
         "17",
         "198",
         "18"
        ],
        [
         "13",
         "U_14",
         "Instagram",
         "427",
         "0",
         "110",
         "19"
        ],
        [
         "14",
         "U_15",
         "Facebook",
         "434",
         "2",
         "111",
         "16"
        ],
        [
         "15",
         "U_16",
         "Twitter",
         "494",
         "10",
         "93",
         "49"
        ],
        [
         "16",
         "U_17",
         "Snapchat",
         "32",
         "2",
         "81",
         "8"
        ],
        [
         "17",
         "U_18",
         "Snapchat",
         "104",
         "19",
         "3",
         "49"
        ],
        [
         "18",
         "U_19",
         "LinkedIn",
         "431",
         "7",
         "14",
         "38"
        ],
        [
         "19",
         "U_20",
         "Snapchat",
         "347",
         "16",
         "187",
         "21"
        ],
        [
         "20",
         "U_21",
         "LinkedIn",
         "52",
         "19",
         "51",
         "33"
        ],
        [
         "21",
         "U_22",
         "Facebook",
         "100",
         "19",
         "42",
         "9"
        ],
        [
         "22",
         "U_23",
         "Pinterest",
         "214",
         "9",
         "122",
         "16"
        ],
        [
         "23",
         "U_24",
         "Facebook",
         "221",
         "15",
         "127",
         "22"
        ],
        [
         "24",
         "U_25",
         "Instagram",
         "280",
         "13",
         "42",
         "15"
        ],
        [
         "25",
         "U_26",
         "LinkedIn",
         "355",
         "0",
         "128",
         "38"
        ],
        [
         "26",
         "U_27",
         "Twitter",
         "188",
         "3",
         "5",
         "15"
        ],
        [
         "27",
         "U_28",
         "TikTok",
         "77",
         "2",
         "192",
         "13"
        ],
        [
         "28",
         "U_29",
         "Twitter",
         "337",
         "18",
         "21",
         "44"
        ],
        [
         "29",
         "U_30",
         "TikTok",
         "199",
         "5",
         "186",
         "40"
        ],
        [
         "30",
         "U_31",
         "TikTok",
         "321",
         "4",
         "136",
         "18"
        ],
        [
         "31",
         "U_32",
         "Twitter",
         "119",
         "17",
         "97",
         "3"
        ],
        [
         "32",
         "U_33",
         "TikTok",
         "396",
         "10",
         "37",
         "36"
        ],
        [
         "33",
         "U_34",
         "Pinterest",
         "112",
         "8",
         "82",
         "21"
        ],
        [
         "34",
         "U_35",
         "Snapchat",
         "63",
         "0",
         "86",
         "44"
        ],
        [
         "35",
         "U_36",
         "Twitter",
         "108",
         "0",
         "163",
         "40"
        ],
        [
         "36",
         "U_37",
         "TikTok",
         "252",
         "3",
         "6",
         "39"
        ],
        [
         "37",
         "U_38",
         "LinkedIn",
         "233",
         "15",
         "197",
         "25"
        ],
        [
         "38",
         "U_39",
         "Pinterest",
         "180",
         "20",
         "127",
         "3"
        ],
        [
         "39",
         "U_40",
         "Twitter",
         "289",
         "20",
         "131",
         "14"
        ],
        [
         "40",
         "U_41",
         "Facebook",
         "75",
         "10",
         "19",
         "38"
        ],
        [
         "41",
         "U_42",
         "Twitter",
         "51",
         "10",
         "21",
         "9"
        ],
        [
         "42",
         "U_43",
         "Facebook",
         "187",
         "20",
         "146",
         "20"
        ],
        [
         "43",
         "U_44",
         "LinkedIn",
         "215",
         "10",
         "157",
         "31"
        ],
        [
         "44",
         "U_45",
         "Facebook",
         "202",
         "1",
         "64",
         "12"
        ],
        [
         "45",
         "U_46",
         "Pinterest",
         "206",
         "11",
         "150",
         "1"
        ],
        [
         "46",
         "U_47",
         "Pinterest",
         "295",
         "1",
         "47",
         "23"
        ],
        [
         "47",
         "U_48",
         "Pinterest",
         "43",
         "19",
         "16",
         "38"
        ],
        [
         "48",
         "U_49",
         "LinkedIn",
         "5",
         "7",
         "38",
         "40"
        ],
        [
         "49",
         "U_50",
         "LinkedIn",
         "167",
         "10",
         "33",
         "27"
        ]
       ],
       "shape": {
        "columns": 6,
        "rows": 1000
       }
      },
      "text/html": [
       "<div>\n",
       "<style scoped>\n",
       "    .dataframe tbody tr th:only-of-type {\n",
       "        vertical-align: middle;\n",
       "    }\n",
       "\n",
       "    .dataframe tbody tr th {\n",
       "        vertical-align: top;\n",
       "    }\n",
       "\n",
       "    .dataframe thead th {\n",
       "        text-align: right;\n",
       "    }\n",
       "</style>\n",
       "<table border=\"1\" class=\"dataframe\">\n",
       "  <thead>\n",
       "    <tr style=\"text-align: right;\">\n",
       "      <th></th>\n",
       "      <th>User_ID</th>\n",
       "      <th>App</th>\n",
       "      <th>Daily_Minutes_Spent</th>\n",
       "      <th>Posts_Per_Day</th>\n",
       "      <th>Likes_Per_Day</th>\n",
       "      <th>Follows_Per_Day</th>\n",
       "    </tr>\n",
       "  </thead>\n",
       "  <tbody>\n",
       "    <tr>\n",
       "      <th>0</th>\n",
       "      <td>U_1</td>\n",
       "      <td>Pinterest</td>\n",
       "      <td>288</td>\n",
       "      <td>16</td>\n",
       "      <td>94</td>\n",
       "      <td>0</td>\n",
       "    </tr>\n",
       "    <tr>\n",
       "      <th>1</th>\n",
       "      <td>U_2</td>\n",
       "      <td>Facebook</td>\n",
       "      <td>192</td>\n",
       "      <td>14</td>\n",
       "      <td>117</td>\n",
       "      <td>15</td>\n",
       "    </tr>\n",
       "    <tr>\n",
       "      <th>2</th>\n",
       "      <td>U_3</td>\n",
       "      <td>Instagram</td>\n",
       "      <td>351</td>\n",
       "      <td>13</td>\n",
       "      <td>120</td>\n",
       "      <td>48</td>\n",
       "    </tr>\n",
       "    <tr>\n",
       "      <th>3</th>\n",
       "      <td>U_4</td>\n",
       "      <td>TikTok</td>\n",
       "      <td>21</td>\n",
       "      <td>20</td>\n",
       "      <td>117</td>\n",
       "      <td>8</td>\n",
       "    </tr>\n",
       "    <tr>\n",
       "      <th>4</th>\n",
       "      <td>U_5</td>\n",
       "      <td>LinkedIn</td>\n",
       "      <td>241</td>\n",
       "      <td>16</td>\n",
       "      <td>9</td>\n",
       "      <td>21</td>\n",
       "    </tr>\n",
       "    <tr>\n",
       "      <th>...</th>\n",
       "      <td>...</td>\n",
       "      <td>...</td>\n",
       "      <td>...</td>\n",
       "      <td>...</td>\n",
       "      <td>...</td>\n",
       "      <td>...</td>\n",
       "    </tr>\n",
       "    <tr>\n",
       "      <th>995</th>\n",
       "      <td>U_996</td>\n",
       "      <td>LinkedIn</td>\n",
       "      <td>479</td>\n",
       "      <td>4</td>\n",
       "      <td>72</td>\n",
       "      <td>15</td>\n",
       "    </tr>\n",
       "    <tr>\n",
       "      <th>996</th>\n",
       "      <td>U_997</td>\n",
       "      <td>Instagram</td>\n",
       "      <td>499</td>\n",
       "      <td>14</td>\n",
       "      <td>110</td>\n",
       "      <td>49</td>\n",
       "    </tr>\n",
       "    <tr>\n",
       "      <th>997</th>\n",
       "      <td>U_998</td>\n",
       "      <td>Facebook</td>\n",
       "      <td>318</td>\n",
       "      <td>6</td>\n",
       "      <td>105</td>\n",
       "      <td>9</td>\n",
       "    </tr>\n",
       "    <tr>\n",
       "      <th>998</th>\n",
       "      <td>U_999</td>\n",
       "      <td>TikTok</td>\n",
       "      <td>305</td>\n",
       "      <td>15</td>\n",
       "      <td>151</td>\n",
       "      <td>6</td>\n",
       "    </tr>\n",
       "    <tr>\n",
       "      <th>999</th>\n",
       "      <td>U_1000</td>\n",
       "      <td>Pinterest</td>\n",
       "      <td>115</td>\n",
       "      <td>17</td>\n",
       "      <td>81</td>\n",
       "      <td>39</td>\n",
       "    </tr>\n",
       "  </tbody>\n",
       "</table>\n",
       "<p>1000 rows × 6 columns</p>\n",
       "</div>"
      ],
      "text/plain": [
       "    User_ID        App  Daily_Minutes_Spent  Posts_Per_Day  Likes_Per_Day  \\\n",
       "0       U_1  Pinterest                  288             16             94   \n",
       "1       U_2   Facebook                  192             14            117   \n",
       "2       U_3  Instagram                  351             13            120   \n",
       "3       U_4     TikTok                   21             20            117   \n",
       "4       U_5   LinkedIn                  241             16              9   \n",
       "..      ...        ...                  ...            ...            ...   \n",
       "995   U_996   LinkedIn                  479              4             72   \n",
       "996   U_997  Instagram                  499             14            110   \n",
       "997   U_998   Facebook                  318              6            105   \n",
       "998   U_999     TikTok                  305             15            151   \n",
       "999  U_1000  Pinterest                  115             17             81   \n",
       "\n",
       "     Follows_Per_Day  \n",
       "0                  0  \n",
       "1                 15  \n",
       "2                 48  \n",
       "3                  8  \n",
       "4                 21  \n",
       "..               ...  \n",
       "995               15  \n",
       "996               49  \n",
       "997                9  \n",
       "998                6  \n",
       "999               39  \n",
       "\n",
       "[1000 rows x 6 columns]"
      ]
     },
     "execution_count": 14,
     "metadata": {},
     "output_type": "execute_result"
    }
   ],
   "source": [
    "Socia_Media=pd.read_csv('social_media_usage.csv')\n",
    "Socia_Media"
   ]
  },
  {
   "cell_type": "code",
   "execution_count": 30,
   "id": "635878d9",
   "metadata": {},
   "outputs": [
    {
     "data": {
      "application/vnd.microsoft.datawrangler.viewer.v0+json": {
       "columns": [
        {
         "name": "index",
         "rawType": "int64",
         "type": "integer"
        },
        {
         "name": "App",
         "rawType": "int64",
         "type": "integer"
        },
        {
         "name": "Daily_Minutes_Spent",
         "rawType": "int64",
         "type": "integer"
        },
        {
         "name": "Posts_Per_Day",
         "rawType": "int64",
         "type": "integer"
        },
        {
         "name": "Likes_Per_Day",
         "rawType": "int64",
         "type": "integer"
        },
        {
         "name": "Follows_Per_Day",
         "rawType": "int64",
         "type": "integer"
        }
       ],
       "ref": "2bec1181-550a-4650-8a9b-0ae78ccb7bee",
       "rows": [
        [
         "0",
         "1",
         "496",
         "0",
         "121",
         "24"
        ],
        [
         "1",
         "1",
         "492",
         "3",
         "182",
         "6"
        ],
        [
         "2",
         "1",
         "438",
         "11",
         "10",
         "20"
        ],
        [
         "3",
         "1",
         "274",
         "10",
         "150",
         "43"
        ],
        [
         "4",
         "1",
         "413",
         "2",
         "30",
         "40"
        ],
        [
         "5",
         "1",
         "97",
         "6",
         "86",
         "43"
        ],
        [
         "6",
         "1",
         "129",
         "6",
         "144",
         "9"
        ],
        [
         "7",
         "1",
         "28",
         "2",
         "95",
         "23"
        ],
        [
         "8",
         "1",
         "230",
         "12",
         "162",
         "41"
        ],
        [
         "9",
         "1",
         "141",
         "0",
         "165",
         "13"
        ],
        [
         "10",
         "1",
         "176",
         "6",
         "121",
         "2"
        ],
        [
         "11",
         "1",
         "332",
         "7",
         "81",
         "17"
        ],
        [
         "12",
         "1",
         "17",
         "13",
         "33",
         "41"
        ],
        [
         "13",
         "1",
         "245",
         "5",
         "107",
         "41"
        ],
        [
         "14",
         "1",
         "176",
         "10",
         "56",
         "6"
        ],
        [
         "15",
         "1",
         "25",
         "4",
         "76",
         "47"
        ],
        [
         "16",
         "1",
         "154",
         "17",
         "2",
         "50"
        ],
        [
         "17",
         "1",
         "93",
         "2",
         "25",
         "45"
        ],
        [
         "18",
         "1",
         "153",
         "1",
         "14",
         "10"
        ],
        [
         "19",
         "1",
         "192",
         "16",
         "18",
         "21"
        ],
        [
         "20",
         "1",
         "368",
         "0",
         "11",
         "30"
        ],
        [
         "21",
         "1",
         "323",
         "7",
         "166",
         "31"
        ],
        [
         "22",
         "1",
         "369",
         "6",
         "94",
         "13"
        ],
        [
         "23",
         "1",
         "479",
         "17",
         "68",
         "0"
        ],
        [
         "24",
         "1",
         "8",
         "15",
         "0",
         "17"
        ],
        [
         "25",
         "1",
         "498",
         "18",
         "199",
         "50"
        ],
        [
         "26",
         "1",
         "401",
         "2",
         "164",
         "28"
        ],
        [
         "27",
         "1",
         "300",
         "7",
         "78",
         "44"
        ],
        [
         "28",
         "1",
         "256",
         "1",
         "32",
         "11"
        ],
        [
         "29",
         "1",
         "56",
         "15",
         "154",
         "32"
        ],
        [
         "30",
         "1",
         "189",
         "19",
         "117",
         "28"
        ],
        [
         "31",
         "1",
         "474",
         "1",
         "82",
         "35"
        ],
        [
         "32",
         "1",
         "287",
         "13",
         "130",
         "3"
        ],
        [
         "33",
         "1",
         "171",
         "19",
         "66",
         "5"
        ],
        [
         "34",
         "1",
         "464",
         "5",
         "17",
         "22"
        ],
        [
         "35",
         "1",
         "20",
         "9",
         "11",
         "16"
        ],
        [
         "36",
         "1",
         "457",
         "2",
         "131",
         "32"
        ],
        [
         "37",
         "1",
         "49",
         "15",
         "11",
         "49"
        ],
        [
         "38",
         "1",
         "39",
         "18",
         "43",
         "44"
        ],
        [
         "39",
         "1",
         "242",
         "9",
         "55",
         "24"
        ],
        [
         "40",
         "1",
         "173",
         "17",
         "43",
         "44"
        ],
        [
         "41",
         "1",
         "408",
         "18",
         "71",
         "25"
        ],
        [
         "42",
         "1",
         "127",
         "15",
         "195",
         "30"
        ],
        [
         "43",
         "1",
         "330",
         "19",
         "138",
         "45"
        ],
        [
         "44",
         "1",
         "127",
         "19",
         "116",
         "0"
        ],
        [
         "45",
         "1",
         "461",
         "11",
         "141",
         "7"
        ],
        [
         "46",
         "1",
         "170",
         "17",
         "4",
         "28"
        ],
        [
         "47",
         "1",
         "462",
         "4",
         "159",
         "47"
        ],
        [
         "48",
         "1",
         "34",
         "18",
         "161",
         "30"
        ],
        [
         "49",
         "1",
         "161",
         "8",
         "192",
         "7"
        ]
       ],
       "shape": {
        "columns": 5,
        "rows": 1000
       }
      },
      "text/html": [
       "<div>\n",
       "<style scoped>\n",
       "    .dataframe tbody tr th:only-of-type {\n",
       "        vertical-align: middle;\n",
       "    }\n",
       "\n",
       "    .dataframe tbody tr th {\n",
       "        vertical-align: top;\n",
       "    }\n",
       "\n",
       "    .dataframe thead th {\n",
       "        text-align: right;\n",
       "    }\n",
       "</style>\n",
       "<table border=\"1\" class=\"dataframe\">\n",
       "  <thead>\n",
       "    <tr style=\"text-align: right;\">\n",
       "      <th></th>\n",
       "      <th>App</th>\n",
       "      <th>Daily_Minutes_Spent</th>\n",
       "      <th>Posts_Per_Day</th>\n",
       "      <th>Likes_Per_Day</th>\n",
       "      <th>Follows_Per_Day</th>\n",
       "    </tr>\n",
       "  </thead>\n",
       "  <tbody>\n",
       "    <tr>\n",
       "      <th>0</th>\n",
       "      <td>1</td>\n",
       "      <td>496</td>\n",
       "      <td>0</td>\n",
       "      <td>121</td>\n",
       "      <td>24</td>\n",
       "    </tr>\n",
       "    <tr>\n",
       "      <th>1</th>\n",
       "      <td>1</td>\n",
       "      <td>492</td>\n",
       "      <td>3</td>\n",
       "      <td>182</td>\n",
       "      <td>6</td>\n",
       "    </tr>\n",
       "    <tr>\n",
       "      <th>2</th>\n",
       "      <td>1</td>\n",
       "      <td>438</td>\n",
       "      <td>11</td>\n",
       "      <td>10</td>\n",
       "      <td>20</td>\n",
       "    </tr>\n",
       "    <tr>\n",
       "      <th>3</th>\n",
       "      <td>1</td>\n",
       "      <td>274</td>\n",
       "      <td>10</td>\n",
       "      <td>150</td>\n",
       "      <td>43</td>\n",
       "    </tr>\n",
       "    <tr>\n",
       "      <th>4</th>\n",
       "      <td>1</td>\n",
       "      <td>413</td>\n",
       "      <td>2</td>\n",
       "      <td>30</td>\n",
       "      <td>40</td>\n",
       "    </tr>\n",
       "    <tr>\n",
       "      <th>...</th>\n",
       "      <td>...</td>\n",
       "      <td>...</td>\n",
       "      <td>...</td>\n",
       "      <td>...</td>\n",
       "      <td>...</td>\n",
       "    </tr>\n",
       "    <tr>\n",
       "      <th>995</th>\n",
       "      <td>7</td>\n",
       "      <td>396</td>\n",
       "      <td>20</td>\n",
       "      <td>143</td>\n",
       "      <td>8</td>\n",
       "    </tr>\n",
       "    <tr>\n",
       "      <th>996</th>\n",
       "      <td>7</td>\n",
       "      <td>45</td>\n",
       "      <td>8</td>\n",
       "      <td>69</td>\n",
       "      <td>7</td>\n",
       "    </tr>\n",
       "    <tr>\n",
       "      <th>997</th>\n",
       "      <td>7</td>\n",
       "      <td>336</td>\n",
       "      <td>17</td>\n",
       "      <td>123</td>\n",
       "      <td>22</td>\n",
       "    </tr>\n",
       "    <tr>\n",
       "      <th>998</th>\n",
       "      <td>7</td>\n",
       "      <td>305</td>\n",
       "      <td>18</td>\n",
       "      <td>194</td>\n",
       "      <td>12</td>\n",
       "    </tr>\n",
       "    <tr>\n",
       "      <th>999</th>\n",
       "      <td>7</td>\n",
       "      <td>90</td>\n",
       "      <td>9</td>\n",
       "      <td>132</td>\n",
       "      <td>25</td>\n",
       "    </tr>\n",
       "  </tbody>\n",
       "</table>\n",
       "<p>1000 rows × 5 columns</p>\n",
       "</div>"
      ],
      "text/plain": [
       "     App  Daily_Minutes_Spent  Posts_Per_Day  Likes_Per_Day  Follows_Per_Day\n",
       "0      1                  496              0            121               24\n",
       "1      1                  492              3            182                6\n",
       "2      1                  438             11             10               20\n",
       "3      1                  274             10            150               43\n",
       "4      1                  413              2             30               40\n",
       "..   ...                  ...            ...            ...              ...\n",
       "995    7                  396             20            143                8\n",
       "996    7                   45              8             69                7\n",
       "997    7                  336             17            123               22\n",
       "998    7                  305             18            194               12\n",
       "999    7                   90              9            132               25\n",
       "\n",
       "[1000 rows x 5 columns]"
      ]
     },
     "execution_count": 30,
     "metadata": {},
     "output_type": "execute_result"
    }
   ],
   "source": [
    "SM_usage=pd.read_csv('SMedia_usage.csv')\n",
    "SM_usage"
   ]
  },
  {
   "cell_type": "code",
   "execution_count": 16,
   "id": "20c83fe2",
   "metadata": {},
   "outputs": [
    {
     "data": {
      "image/png": "[encoded data removed]",
      "text/plain": [
       "<Figure size 640x480 with 2 Axes>"
      ]
     },
     "metadata": {},
     "output_type": "display_data"
    }
   ],
   "source": [
    "\n",
    "\n",
    "correlation = SM_usage.corr()\n",
    "sns.heatmap(correlation, annot=True, cmap='coolwarm')\n",
    "plt.title(\"Correlation Heatmap\")\n",
    "plt.show()\n"
   ]
  },
  {
   "cell_type": "code",
   "execution_count": 17,
   "id": "e92b87aa",
   "metadata": {},
   "outputs": [],
   "source": [
    "# Define high vs low engagement (you can adjust thresholds)\n",
    "SM_usage[\"Engagement_Class\"] = pd.cut(\n",
    "    SM_usage[\"Likes_Per_Day\"],\n",
    "    bins=[-1, 50, 200, float(\"inf\")], \n",
    "    labels=[\"Low\", \"Medium\", \"High\"]\n",
    ")\n"
   ]
  },
  {
   "cell_type": "code",
   "execution_count": 18,
   "id": "de1daf48",
   "metadata": {},
   "outputs": [
    {
     "name": "stdout",
     "output_type": "stream",
     "text": [
      "              precision    recall  f1-score   support\n",
      "\n",
      "         Low       0.32      0.12      0.17        50\n",
      "      Medium       0.76      0.91      0.83       150\n",
      "\n",
      "    accuracy                           0.71       200\n",
      "   macro avg       0.54      0.52      0.50       200\n",
      "weighted avg       0.65      0.71      0.66       200\n",
      "\n",
      "[[  6  44]\n",
      " [ 13 137]]\n"
     ]
    }
   ],
   "source": [
    "from sklearn.ensemble import RandomForestClassifier\n",
    "from sklearn.metrics import classification_report, confusion_matrix\n",
    "\n",
    "# Features & Target\n",
    "X = SM_usage.drop(columns=[\"Likes_Per_Day\", \"Engagement_Class\", \"App\"]) \n",
    "y = SM_usage[\"Engagement_Class\"]\n",
    "\n",
    "# Split\n",
    "X_train, X_test, y_train, y_test = train_test_split(X, y, test_size=0.2, random_state=42)\n",
    "\n",
    "# Model\n",
    "clf = RandomForestClassifier(n_estimators=100, random_state=42)\n",
    "clf.fit(X_train, y_train)\n",
    "\n",
    "# Predictions\n",
    "y_pred = clf.predict(X_test)\n",
    "\n",
    "# Evaluation\n",
    "print(classification_report(y_test, y_pred))\n",
    "print(confusion_matrix(y_test, y_pred))"
   ]
  },
  {
   "cell_type": "code",
   "execution_count": 19,
   "id": "660c8790",
   "metadata": {},
   "outputs": [
    {
     "name": "stdout",
     "output_type": "stream",
     "text": [
      "<class 'pandas.core.frame.DataFrame'>\n",
      "RangeIndex: 1000 entries, 0 to 999\n",
      "Data columns (total 6 columns):\n",
      " #   Column               Non-Null Count  Dtype   \n",
      "---  ------               --------------  -----   \n",
      " 0   App                  1000 non-null   int64   \n",
      " 1   Daily_Minutes_Spent  1000 non-null   int64   \n",
      " 2   Posts_Per_Day        1000 non-null   int64   \n",
      " 3   Likes_Per_Day        1000 non-null   int64   \n",
      " 4   Follows_Per_Day      1000 non-null   int64   \n",
      " 5   Engagement_Class     1000 non-null   category\n",
      "dtypes: category(1), int64(5)\n",
      "memory usage: 40.3 KB\n"
     ]
    }
   ],
   "source": [
    "SM_usage.info()"
   ]
  },
  {
   "cell_type": "markdown",
   "id": "e7c82c6b",
   "metadata": {},
   "source": [
    "Active Users"
   ]
  },
  {
   "cell_type": "code",
   "execution_count": null,
   "id": "c77369cb",
   "metadata": {},
   "outputs": [],
   "source": [
    "SM_usage=SM_usage.drop(columns=\"App_Name\",axis=1)"
   ]
  },
  {
   "cell_type": "code",
   "execution_count": 21,
   "id": "3e70f761",
   "metadata": {},
   "outputs": [],
   "source": [
    "X = SM_usage.drop('Posts_Per_Day', axis=1)\n",
    "y = SM_usage['Posts_Per_Day']"
   ]
  },
  {
   "cell_type": "code",
   "execution_count": 22,
   "id": "6797785a",
   "metadata": {},
   "outputs": [],
   "source": [
    "X_train,X_test,y_train,y_test=train_test_split(X,y,test_size=0.2,random_state=42)"
   ]
  },
  {
   "cell_type": "code",
   "execution_count": 23,
   "id": "a1df896e",
   "metadata": {},
   "outputs": [
    {
     "name": "stdout",
     "output_type": "stream",
     "text": [
      "<class 'pandas.core.frame.DataFrame'>\n",
      "RangeIndex: 1000 entries, 0 to 999\n",
      "Data columns (total 6 columns):\n",
      " #   Column               Non-Null Count  Dtype   \n",
      "---  ------               --------------  -----   \n",
      " 0   App                  1000 non-null   int64   \n",
      " 1   Daily_Minutes_Spent  1000 non-null   int64   \n",
      " 2   Posts_Per_Day        1000 non-null   int64   \n",
      " 3   Likes_Per_Day        1000 non-null   int64   \n",
      " 4   Follows_Per_Day      1000 non-null   int64   \n",
      " 5   Engagement_Class     1000 non-null   category\n",
      "dtypes: category(1), int64(5)\n",
      "memory usage: 40.3 KB\n"
     ]
    }
   ],
   "source": [
    "SM_usage.info()"
   ]
  },
  {
   "cell_type": "code",
   "execution_count": 24,
   "id": "e11f3086",
   "metadata": {},
   "outputs": [],
   "source": [
    "SM_usage=SM_usage.drop(columns=\"Engagement_Class\",axis=1)"
   ]
  },
  {
   "cell_type": "code",
   "execution_count": 25,
   "id": "0b5e0313",
   "metadata": {},
   "outputs": [
    {
     "name": "stdout",
     "output_type": "stream",
     "text": [
      "Mean Absolute Error (MAE): 5.638568878173828\n"
     ]
    }
   ],
   "source": [
    "\n",
    "\n",
    "X = SM_usage.drop('Posts_Per_Day', axis=1)\n",
    "y = SM_usage['Posts_Per_Day']\n",
    "X_train,X_test,y_train,y_test=train_test_split(X,y,test_size=0.2,random_state=42)# Define and train model\n",
    "xgb_model = XGBRegressor(\n",
    "    n_estimators=200,     # number of trees\n",
    "    learning_rate=0.1,    # step size shrinkage\n",
    "    max_depth=6,          # tree depth\n",
    "    random_state=42\n",
    ")\n",
    "xgb_model.fit(X_train, y_train)\n",
    "\n",
    "# Predict\n",
    "y_pred = xgb_model.predict(X_test)\n",
    "mae = mean_absolute_error(y_test, y_pred)\n",
    "print(\"Mean Absolute Error (MAE):\", mae)\n",
    "\n"
   ]
  },
  {
   "cell_type": "code",
   "execution_count": 26,
   "id": "ebab28b2",
   "metadata": {},
   "outputs": [
    {
     "name": "stdout",
     "output_type": "stream",
     "text": [
      "Mean Absolute Error (MAE): 13.837868690490723\n"
     ]
    }
   ],
   "source": [
    "X = SM_usage.drop('Follows_Per_Day', axis=1)\n",
    "y = SM_usage['Follows_Per_Day']\n",
    "X_train,X_test,y_train,y_test=train_test_split(X,y,test_size=0.2,random_state=42)# Define and train model\n",
    "xgb_model = XGBRegressor(\n",
    "    n_estimators=200,     # number of trees\n",
    "    learning_rate=0.1,    # step size shrinkage\n",
    "    max_depth=6,          # tree depth\n",
    "    random_state=42\n",
    ")\n",
    "xgb_model.fit(X_train, y_train)\n",
    "\n",
    "# Predict\n",
    "y_pred = xgb_model.predict(X_test)\n",
    "mae = mean_absolute_error(y_test, y_pred)\n",
    "print(\"Mean Absolute Error (MAE):\", mae)"
   ]
  },
  {
   "cell_type": "code",
   "execution_count": 27,
   "id": "a5dfb3f3",
   "metadata": {},
   "outputs": [
    {
     "name": "stdout",
     "output_type": "stream",
     "text": [
      "Mean Absolute Error (MAE): 141.45172119140625\n"
     ]
    }
   ],
   "source": [
    "X = SM_usage.drop('Daily_Minutes_Spent', axis=1)\n",
    "y = SM_usage['Daily_Minutes_Spent']\n",
    "X_train,X_test,y_train,y_test=train_test_split(X,y,test_size=0.2,random_state=42)# Define and train model\n",
    "xgb_model = XGBRegressor(\n",
    "    n_estimators=200,     # number of trees\n",
    "    learning_rate=0.1,    # step size shrinkage\n",
    "    max_depth=6,          # tree depth\n",
    "    random_state=42\n",
    ")\n",
    "xgb_model.fit(X_train, y_train)\n",
    "\n",
    "# Predict\n",
    "y_pred = xgb_model.predict(X_test)\n",
    "mae = mean_absolute_error(y_test, y_pred)\n",
    "print(\"Mean Absolute Error (MAE):\", mae)"
   ]
  },
  {
   "cell_type": "code",
   "execution_count": null,
   "id": "98b1397e",
   "metadata": {},
   "outputs": [
    {
     "ename": "IndentationError",
     "evalue": "unexpected indent (4032271273.py, line 3)",
     "output_type": "error",
     "traceback": [
      "  \u001b[36mCell\u001b[39m\u001b[36m \u001b[39m\u001b[32mIn[29]\u001b[39m\u001b[32m, line 3\u001b[39m\n\u001b[31m    \u001b[39m\u001b[31m1: \"Facebook\",\u001b[39m\n    ^\n\u001b[31mIndentationError\u001b[39m\u001b[31m:\u001b[39m unexpected indent\n"
     ]
    }
   ],
   "source": [
    "\n",
    "\n",
    "# Example mapping (replace with your actual names if needed)\n",
    "#app_mapping = {\n",
    "    1: \"Facebook\",\n",
    "    2: \"Instagram\",\n",
    "    3: \"Twitter\",\n",
    "    4: \"Pinterest\",\n",
    "    5: \"Snapchat\",\n",
    "    6: \"TikTok\",\n",
    "    7: \"LinkedIn\"\n",
    "#}\n",
    "SM_usage[\"App_Name\"] = SM_usage[\"App\"].map(app_mapping)\n",
    "\n",
    "# Aggregate activity by App\n",
    "app_activity = SM_usage.groupby(\"App_Name\")[[\"Posts_Per_Day\", \"Follows_Per_Day\"]].sum()\n",
    "\n",
    "# Create Activity Score = Posts + Follows\n",
    "app_activity[\"Activity_Score\"] = app_activity[\"Posts_Per_Day\"] + app_activity[\"Follows_Per_Day\"]\n",
    "\n",
    "# Sort by Activity Score\n",
    "app_activity = app_activity.sort_values(by=\"Activity_Score\", ascending=False)\n",
    "\n",
    "# Plot\n",
    "plt.figure(figsize=(10,6))\n",
    "sns.barplot(x=app_activity[\"Activity_Score\"], y=app_activity.index, palette=\"Set2\")\n",
    "plt.title(\"Top Active Apps (Based on Posts + Follows)\")\n",
    "plt.xlabel(\"Total Activity Score (Posts + Follows)\")\n",
    "plt.ylabel(\"App\")\n",
    "plt.show()\n"
   ]
  },
  {
   "cell_type": "markdown",
   "id": "407a5dde",
   "metadata": {},
   "source": [
    "average post per day"
   ]
  },
  {
   "cell_type": "code",
   "execution_count": null,
   "id": "c4f5ecfe",
   "metadata": {},
   "outputs": [
    {
     "name": "stderr",
     "output_type": "stream",
     "text": [
      "C:\\Users\\FAST COMPUTER\\AppData\\Local\\Temp\\ipykernel_6204\\2995060779.py:19: FutureWarning: \n",
      "\n",
      "Passing `palette` without assigning `hue` is deprecated and will be removed in v0.14.0. Assign the `x` variable to `hue` and set `legend=False` for the same effect.\n",
      "\n",
      "  sns.barplot(x=\"App_Name\", y=\"Posts_Per_Day\", data=SM_usage,estimator=\"mean\" ,palette=\"Set2\")\n"
     ]
    },
    {
     "data": {
      "image/png": "[encoded data removed]",
      "text/plain": [
       "<Figure size 800x500 with 1 Axes>"
      ]
     },
     "metadata": {},
     "output_type": "display_data"
    }
   ],
   "source": [
    "\n",
    "app_mapping = {\n",
    "    1: \"Facebook\",\n",
    "    2: \"Instagram\",\n",
    "    3: \"Twitter\",\n",
    "    4: \"Pinterest\",\n",
    "    5: \"Snapchat\",\n",
    "    6: \"TikTok\",\n",
    "    7: \"LinkedIn\"\n",
    "}\n",
    "\n",
    "SM_usage[\"App_Name\"] = SM_usage[\"App\"].map(app_mapping)\n",
    "\n",
    "# Now plot with names\n",
    "\n",
    "\n",
    "plt.figure(figsize=(8,5))\n",
    "sns.barplot(x=\"App_Name\", y=\"Posts_Per_Day\", data=SM_usage,estimator=\"mean\" ,palette=\"Set2\")\n",
    "\n",
    "plt.title(\"Average Posts Per Day by App\")\n",
    "plt.xlabel(\"App\")\n",
    "plt.ylabel(\"Average Posts per Day\")\n",
    "\n",
    "plt.show()"
   ]
  },
  {
   "cell_type": "code",
   "execution_count": 31,
   "id": "d3e0a135",
   "metadata": {},
   "outputs": [
    {
     "name": "stderr",
     "output_type": "stream",
     "text": [
      "C:\\Users\\FAST COMPUTER\\AppData\\Local\\Temp\\ipykernel_14716\\2545173494.py:17: FutureWarning: \n",
      "\n",
      "Passing `palette` without assigning `hue` is deprecated and will be removed in v0.14.0. Assign the `x` variable to `hue` and set `legend=False` for the same effect.\n",
      "\n",
      "  sns.barplot(x=\"App_Name\", y=\"Follows_Per_Day\", data=SM_usage,estimator=\"mean\" ,palette=\"Set2\")\n"
     ]
    },
    {
     "data": {
      "image/png": "[encoded data removed]",
      "text/plain": [
       "<Figure size 800x500 with 1 Axes>"
      ]
     },
     "metadata": {},
     "output_type": "display_data"
    }
   ],
   "source": [
    "app_mapping = {\n",
    "    1: \"Facebook\",\n",
    "    2: \"Instagram\",\n",
    "    3: \"Twitter\",\n",
    "    4: \"Pinterest\",\n",
    "    5: \"Snapchat\",\n",
    "    6: \"TikTok\",\n",
    "    7: \"LinkedIn\"\n",
    "}\n",
    "\n",
    "SM_usage[\"App_Name\"] = SM_usage[\"App\"].map(app_mapping)\n",
    "\n",
    "# Now plot with names\n",
    "\n",
    "\n",
    "plt.figure(figsize=(8,5))\n",
    "sns.barplot(x=\"App_Name\", y=\"Follows_Per_Day\", data=SM_usage,estimator=\"mean\" ,palette=\"Set2\")\n",
    "\n",
    "plt.title(\"Average Follows Per Day by App\")\n",
    "plt.xlabel(\"App\")\n",
    "plt.ylabel(\"Average Posts per Day\")\n",
    "\n",
    "plt.show()"
   ]
  },
  {
   "cell_type": "markdown",
   "id": "97952527",
   "metadata": {},
   "source": [
    "average likes per day"
   ]
  },
  {
   "cell_type": "code",
   "execution_count": null,
   "id": "ddbba7c8",
   "metadata": {},
   "outputs": [
    {
     "name": "stderr",
     "output_type": "stream",
     "text": [
      "C:\\Users\\FAST COMPUTER\\AppData\\Local\\Temp\\ipykernel_6204\\3039702882.py:19: FutureWarning: \n",
      "\n",
      "Passing `palette` without assigning `hue` is deprecated and will be removed in v0.14.0. Assign the `x` variable to `hue` and set `legend=False` for the same effect.\n",
      "\n",
      "  sns.barplot(x=\"App_Name\", y=\"Likes_Per_Day\", data=SM_usage, estimator=\"mean\", palette=\"Set2\")\n"
     ]
    },
    {
     "data": {
      "image/png": "[encoded data removed]",
      "text/plain": [
       "<Figure size 800x500 with 1 Axes>"
      ]
     },
     "metadata": {},
     "output_type": "display_data"
    }
   ],
   "source": [
    "# Example mapping dictionary\n",
    "app_mapping = {\n",
    "    1: \"Facebook\",\n",
    "    2: \"Instagram\",\n",
    "    3: \"Twitter\",\n",
    "    4: \"Pinterest\",\n",
    "    5: \"Snapchat\",\n",
    "    6: \"TikTok\",\n",
    "    7: \"LinkedIn\"\n",
    "}\n",
    "\n",
    "# Apply mapping\n",
    "SM_usage[\"App_Name\"] = SM_usage[\"App\"].map(app_mapping)\n",
    "\n",
    "# Now plot with names\n",
    "\n",
    "\n",
    "plt.figure(figsize=(8,5))\n",
    "sns.barplot(x=\"App_Name\", y=\"Likes_Per_Day\", data=SM_usage, estimator=\"mean\", palette=\"Set2\")\n",
    "\n",
    "plt.title(\"Average Likes per Day by App\")\n",
    "plt.xlabel(\"App\")\n",
    "plt.ylabel(\"Average Likes per Day\")\n",
    "plt.xticks(rotation=30)\n",
    "plt.show()"
   ]
  },
  {
   "cell_type": "markdown",
   "id": "a35c2789",
   "metadata": {},
   "source": [
    "Retention of users"
   ]
  },
  {
   "cell_type": "code",
   "execution_count": null,
   "id": "dda4f054",
   "metadata": {},
   "outputs": [
    {
     "data": {
      "image/png": "[encoded data removed]",
      "text/plain": [
       "<Figure size 600x400 with 2 Axes>"
      ]
     },
     "metadata": {},
     "output_type": "display_data"
    }
   ],
   "source": [
    "\n",
    "\n",
    "# Correlation between time spent and follower growth\n",
    "correlation = SM_usage[[\"Daily_Minutes_Spent\", \"Follows_Per_Day\"]].corr()\n",
    "\n",
    "plt.figure(figsize=(6,4))\n",
    "sns.heatmap(correlation, annot=True, cmap=\"coolwarm\", fmt=\".2f\")\n",
    "plt.title(\"Correlation: Time Spent vs Follower Growth\")\n",
    "plt.show()\n"
   ]
  },
  {
   "cell_type": "code",
   "execution_count": null,
   "id": "66070e91",
   "metadata": {},
   "outputs": [
    {
     "data": {
      "image/png": "[encoded data removed]",
      "text/plain": [
       "<Figure size 600x400 with 2 Axes>"
      ]
     },
     "metadata": {},
     "output_type": "display_data"
    }
   ],
   "source": [
    "# Correlation between post per day and follower growth\n",
    "correlation = SM_usage[[\"Posts_Per_Day\", \"Follows_Per_Day\"]].corr()\n",
    "\n",
    "plt.figure(figsize=(6,4))\n",
    "sns.heatmap(correlation, annot=True, cmap=\"coolwarm\", fmt=\".2f\")\n",
    "plt.title(\"Correlation: Posts_Per_Day vs Follower Growth\")\n",
    "plt.show()"
   ]
  }
 ],
 "metadata": {
  "kernelspec": {
   "display_name": "Python 3",
   "language": "python",
   "name": "python3"
  },
  "language_info": {
   "codemirror_mode": {
    "name": "ipython",
    "version": 3
   },
   "file_extension": ".py",
   "mimetype": "text/x-python",
   "name": "python",
   "nbconvert_exporter": "python",
   "pygments_lexer": "ipython3",
   "version": "3.13.2"
  }
 },
 "nbformat": 4,
 "nbformat_minor": 5
}
